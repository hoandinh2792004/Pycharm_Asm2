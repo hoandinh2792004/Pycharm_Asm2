{
 "cells": [
  {
   "cell_type": "code",
   "execution_count": 1,
   "id": "initial_id",
   "metadata": {
    "collapsed": true,
    "ExecuteTime": {
     "end_time": "2024-04-08T13:04:00.371609Z",
     "start_time": "2024-04-08T13:03:58.789262Z"
    }
   },
   "outputs": [],
   "source": [
    "import pandas as pd\n",
    "import os\n",
    "import matplotlib.pyplot as plt\n",
    "from sklearn.model_selection import train_test_split\n",
    "from sklearn.linear_model import LinearRegression\n",
    "from sklearn.metrics import mean_squared_error"
   ]
  },
  {
   "cell_type": "code",
   "outputs": [
    {
     "data": {
      "text/plain": "     Order ID                   Product Quantity Ordered Price Each  \\\n0      141234                    iPhone                1        700   \n1      141235  Lightning Charging Cable                1      14.95   \n2      141236          Wired Headphones                2      11.99   \n3      141237          27in FHD Monitor                1     149.99   \n4      141238          Wired Headphones                1      11.99   \n...       ...                       ...              ...        ...   \n9718   150497              20in Monitor                1     109.99   \n9719   150498          27in FHD Monitor                1     149.99   \n9720   150499           ThinkPad Laptop                1     999.99   \n9721   150500    AAA Batteries (4-pack)                2       2.99   \n9722   150501              Google Phone                1        600   \n\n          Order Date                       Purchase Address  \n0     01/22/19 21:25        944 Walnut St, Boston, MA 02215  \n1     01/28/19 14:15       185 Maple St, Portland, OR 97035  \n2     01/17/19 13:33  538 Adams St, San Francisco, CA 94016  \n3     01/05/19 20:33     738 10th St, Los Angeles, CA 90001  \n4     01/25/19 11:59          387 10th St, Austin, TX 73301  \n...              ...                                    ...  \n9718  01/26/19 19:09            95 8th St, Dallas, TX 75001  \n9719  01/10/19 22:58    403 7th St, San Francisco, CA 94016  \n9720  01/21/19 14:31        214 Main St, Portland, OR 97035  \n9721  01/15/19 14:21      810 2nd St, Los Angeles, CA 90001  \n9722  01/13/19 16:43         428 Cedar St, Boston, MA 02215  \n\n[9723 rows x 6 columns]",
      "text/html": "<div>\n<style scoped>\n    .dataframe tbody tr th:only-of-type {\n        vertical-align: middle;\n    }\n\n    .dataframe tbody tr th {\n        vertical-align: top;\n    }\n\n    .dataframe thead th {\n        text-align: right;\n    }\n</style>\n<table border=\"1\" class=\"dataframe\">\n  <thead>\n    <tr style=\"text-align: right;\">\n      <th></th>\n      <th>Order ID</th>\n      <th>Product</th>\n      <th>Quantity Ordered</th>\n      <th>Price Each</th>\n      <th>Order Date</th>\n      <th>Purchase Address</th>\n    </tr>\n  </thead>\n  <tbody>\n    <tr>\n      <th>0</th>\n      <td>141234</td>\n      <td>iPhone</td>\n      <td>1</td>\n      <td>700</td>\n      <td>01/22/19 21:25</td>\n      <td>944 Walnut St, Boston, MA 02215</td>\n    </tr>\n    <tr>\n      <th>1</th>\n      <td>141235</td>\n      <td>Lightning Charging Cable</td>\n      <td>1</td>\n      <td>14.95</td>\n      <td>01/28/19 14:15</td>\n      <td>185 Maple St, Portland, OR 97035</td>\n    </tr>\n    <tr>\n      <th>2</th>\n      <td>141236</td>\n      <td>Wired Headphones</td>\n      <td>2</td>\n      <td>11.99</td>\n      <td>01/17/19 13:33</td>\n      <td>538 Adams St, San Francisco, CA 94016</td>\n    </tr>\n    <tr>\n      <th>3</th>\n      <td>141237</td>\n      <td>27in FHD Monitor</td>\n      <td>1</td>\n      <td>149.99</td>\n      <td>01/05/19 20:33</td>\n      <td>738 10th St, Los Angeles, CA 90001</td>\n    </tr>\n    <tr>\n      <th>4</th>\n      <td>141238</td>\n      <td>Wired Headphones</td>\n      <td>1</td>\n      <td>11.99</td>\n      <td>01/25/19 11:59</td>\n      <td>387 10th St, Austin, TX 73301</td>\n    </tr>\n    <tr>\n      <th>...</th>\n      <td>...</td>\n      <td>...</td>\n      <td>...</td>\n      <td>...</td>\n      <td>...</td>\n      <td>...</td>\n    </tr>\n    <tr>\n      <th>9718</th>\n      <td>150497</td>\n      <td>20in Monitor</td>\n      <td>1</td>\n      <td>109.99</td>\n      <td>01/26/19 19:09</td>\n      <td>95 8th St, Dallas, TX 75001</td>\n    </tr>\n    <tr>\n      <th>9719</th>\n      <td>150498</td>\n      <td>27in FHD Monitor</td>\n      <td>1</td>\n      <td>149.99</td>\n      <td>01/10/19 22:58</td>\n      <td>403 7th St, San Francisco, CA 94016</td>\n    </tr>\n    <tr>\n      <th>9720</th>\n      <td>150499</td>\n      <td>ThinkPad Laptop</td>\n      <td>1</td>\n      <td>999.99</td>\n      <td>01/21/19 14:31</td>\n      <td>214 Main St, Portland, OR 97035</td>\n    </tr>\n    <tr>\n      <th>9721</th>\n      <td>150500</td>\n      <td>AAA Batteries (4-pack)</td>\n      <td>2</td>\n      <td>2.99</td>\n      <td>01/15/19 14:21</td>\n      <td>810 2nd St, Los Angeles, CA 90001</td>\n    </tr>\n    <tr>\n      <th>9722</th>\n      <td>150501</td>\n      <td>Google Phone</td>\n      <td>1</td>\n      <td>600</td>\n      <td>01/13/19 16:43</td>\n      <td>428 Cedar St, Boston, MA 02215</td>\n    </tr>\n  </tbody>\n</table>\n<p>9723 rows × 6 columns</p>\n</div>"
     },
     "execution_count": 12,
     "metadata": {},
     "output_type": "execute_result"
    }
   ],
   "source": [
    "path = r\"C:\\Users\\Hoan Dinh\\OneDrive\\Máy tính\\data/\"\n",
    "file_name = \"sales2019_1.csv\"\n",
    "dataframe = pd.read_csv(path + file_name)\n",
    "dataframe"
   ],
   "metadata": {
    "collapsed": false,
    "ExecuteTime": {
     "end_time": "2024-04-08T13:08:18.349224Z",
     "start_time": "2024-04-08T13:08:18.322059Z"
    }
   },
   "id": "3b6495ab6b7a7d8c",
   "execution_count": 12
  },
  {
   "cell_type": "code",
   "outputs": [
    {
     "data": {
      "text/plain": "['sales2019_1.csv',\n 'sales2019_10.csv',\n 'sales2019_11.csv',\n 'sales2019_12.csv',\n 'sales2019_2.csv',\n 'sales2019_3.csv',\n 'sales2019_4.csv',\n 'sales2019_5.csv',\n 'sales2019_6.csv',\n 'sales2019_7.csv',\n 'sales2019_8.csv',\n 'sales2019_9.csv']"
     },
     "execution_count": 9,
     "metadata": {},
     "output_type": "execute_result"
    }
   ],
   "source": [
    "os.listdir(path)"
   ],
   "metadata": {
    "collapsed": false,
    "ExecuteTime": {
     "end_time": "2024-04-08T13:07:05.676537Z",
     "start_time": "2024-04-08T13:07:05.670565Z"
    }
   },
   "id": "66227d7c4ab2ff59",
   "execution_count": 9
  },
  {
   "cell_type": "markdown",
   "source": [
    "Merge 12-month data"
   ],
   "metadata": {
    "collapsed": false
   },
   "id": "7c09280ebf79d28b"
  },
  {
   "cell_type": "code",
   "outputs": [
    {
     "data": {
      "text/plain": "      Order ID                   Product Quantity Ordered Price Each  \\\n0       141234                    iPhone                1        700   \n1       141235  Lightning Charging Cable                1      14.95   \n2       141236          Wired Headphones                2      11.99   \n3       141237          27in FHD Monitor                1     149.99   \n4       141238          Wired Headphones                1      11.99   \n...        ...                       ...              ...        ...   \n11681   259353    AAA Batteries (4-pack)                3       2.99   \n11682   259354                    iPhone                1        700   \n11683   259355                    iPhone                1        700   \n11684   259356    34in Ultrawide Monitor                1     379.99   \n11685   259357      USB-C Charging Cable                1      11.95   \n\n           Order Date                         Purchase Address  \n0      01/22/19 21:25          944 Walnut St, Boston, MA 02215  \n1      01/28/19 14:15         185 Maple St, Portland, OR 97035  \n2      01/17/19 13:33    538 Adams St, San Francisco, CA 94016  \n3      01/05/19 20:33       738 10th St, Los Angeles, CA 90001  \n4      01/25/19 11:59            387 10th St, Austin, TX 73301  \n...               ...                                      ...  \n11681  09/17/19 20:56   840 Highland St, Los Angeles, CA 90001  \n11682  09/01/19 16:00  216 Dogwood St, San Francisco, CA 94016  \n11683  09/23/19 07:39     220 12th St, San Francisco, CA 94016  \n11684  09/19/19 17:30   511 Forest St, San Francisco, CA 94016  \n11685  09/30/19 00:18   250 Meadow St, San Francisco, CA 94016  \n\n[186850 rows x 6 columns]",
      "text/html": "<div>\n<style scoped>\n    .dataframe tbody tr th:only-of-type {\n        vertical-align: middle;\n    }\n\n    .dataframe tbody tr th {\n        vertical-align: top;\n    }\n\n    .dataframe thead th {\n        text-align: right;\n    }\n</style>\n<table border=\"1\" class=\"dataframe\">\n  <thead>\n    <tr style=\"text-align: right;\">\n      <th></th>\n      <th>Order ID</th>\n      <th>Product</th>\n      <th>Quantity Ordered</th>\n      <th>Price Each</th>\n      <th>Order Date</th>\n      <th>Purchase Address</th>\n    </tr>\n  </thead>\n  <tbody>\n    <tr>\n      <th>0</th>\n      <td>141234</td>\n      <td>iPhone</td>\n      <td>1</td>\n      <td>700</td>\n      <td>01/22/19 21:25</td>\n      <td>944 Walnut St, Boston, MA 02215</td>\n    </tr>\n    <tr>\n      <th>1</th>\n      <td>141235</td>\n      <td>Lightning Charging Cable</td>\n      <td>1</td>\n      <td>14.95</td>\n      <td>01/28/19 14:15</td>\n      <td>185 Maple St, Portland, OR 97035</td>\n    </tr>\n    <tr>\n      <th>2</th>\n      <td>141236</td>\n      <td>Wired Headphones</td>\n      <td>2</td>\n      <td>11.99</td>\n      <td>01/17/19 13:33</td>\n      <td>538 Adams St, San Francisco, CA 94016</td>\n    </tr>\n    <tr>\n      <th>3</th>\n      <td>141237</td>\n      <td>27in FHD Monitor</td>\n      <td>1</td>\n      <td>149.99</td>\n      <td>01/05/19 20:33</td>\n      <td>738 10th St, Los Angeles, CA 90001</td>\n    </tr>\n    <tr>\n      <th>4</th>\n      <td>141238</td>\n      <td>Wired Headphones</td>\n      <td>1</td>\n      <td>11.99</td>\n      <td>01/25/19 11:59</td>\n      <td>387 10th St, Austin, TX 73301</td>\n    </tr>\n    <tr>\n      <th>...</th>\n      <td>...</td>\n      <td>...</td>\n      <td>...</td>\n      <td>...</td>\n      <td>...</td>\n      <td>...</td>\n    </tr>\n    <tr>\n      <th>11681</th>\n      <td>259353</td>\n      <td>AAA Batteries (4-pack)</td>\n      <td>3</td>\n      <td>2.99</td>\n      <td>09/17/19 20:56</td>\n      <td>840 Highland St, Los Angeles, CA 90001</td>\n    </tr>\n    <tr>\n      <th>11682</th>\n      <td>259354</td>\n      <td>iPhone</td>\n      <td>1</td>\n      <td>700</td>\n      <td>09/01/19 16:00</td>\n      <td>216 Dogwood St, San Francisco, CA 94016</td>\n    </tr>\n    <tr>\n      <th>11683</th>\n      <td>259355</td>\n      <td>iPhone</td>\n      <td>1</td>\n      <td>700</td>\n      <td>09/23/19 07:39</td>\n      <td>220 12th St, San Francisco, CA 94016</td>\n    </tr>\n    <tr>\n      <th>11684</th>\n      <td>259356</td>\n      <td>34in Ultrawide Monitor</td>\n      <td>1</td>\n      <td>379.99</td>\n      <td>09/19/19 17:30</td>\n      <td>511 Forest St, San Francisco, CA 94016</td>\n    </tr>\n    <tr>\n      <th>11685</th>\n      <td>259357</td>\n      <td>USB-C Charging Cable</td>\n      <td>1</td>\n      <td>11.95</td>\n      <td>09/30/19 00:18</td>\n      <td>250 Meadow St, San Francisco, CA 94016</td>\n    </tr>\n  </tbody>\n</table>\n<p>186850 rows × 6 columns</p>\n</div>"
     },
     "execution_count": 10,
     "metadata": {},
     "output_type": "execute_result"
    }
   ],
   "source": [
    "frames = []\n",
    "for file in os.listdir(path):\n",
    "    if file.endswith('.csv'):\n",
    "        filefpath = path + file\n",
    "        df1 = pd.read_csv(filefpath)\n",
    "        frames.append(df1)\n",
    "        result= pd.concat(frames)\n",
    "result"
   ],
   "metadata": {
    "collapsed": false,
    "ExecuteTime": {
     "end_time": "2024-04-08T13:07:16.471399Z",
     "start_time": "2024-04-08T13:07:15.799103Z"
    }
   },
   "id": "a07ce166380b955e",
   "execution_count": 10
  },
  {
   "cell_type": "code",
   "outputs": [],
   "source": [
    "df = result\n",
    "df.to_csv('annualSales2019.csv', index= False)"
   ],
   "metadata": {
    "collapsed": false,
    "ExecuteTime": {
     "end_time": "2024-04-08T13:07:23.891540Z",
     "start_time": "2024-04-08T13:07:23.512427Z"
    }
   },
   "id": "67b2be4d3a5d2e3",
   "execution_count": 11
  },
  {
   "cell_type": "markdown",
   "source": [
    "###Clean Data###"
   ],
   "metadata": {
    "collapsed": false
   },
   "id": "3ad5fc522bc67d5"
  },
  {
   "cell_type": "code",
   "outputs": [
    {
     "name": "stdout",
     "output_type": "stream",
     "text": [
      "Empty DataFrame\n",
      "Columns: [Order ID, Product, Quantity Ordered, Price Each, Order Date, Purchase Address]\n",
      "Index: []\n"
     ]
    }
   ],
   "source": [
    "#Check for null values\n",
    "null_product_df = df[df['Product'].isnull()]\n",
    "print(null_product_df)"
   ],
   "metadata": {
    "collapsed": false,
    "ExecuteTime": {
     "end_time": "2024-04-08T13:09:23.254971Z",
     "start_time": "2024-04-08T13:09:23.243344Z"
    }
   },
   "id": "99d0601b91f3bce7",
   "execution_count": 15
  },
  {
   "cell_type": "code",
   "outputs": [],
   "source": [
    "# Remove rows containing blank data\n",
    "df.dropna(inplace=True)"
   ],
   "metadata": {
    "collapsed": false,
    "ExecuteTime": {
     "end_time": "2024-04-08T13:09:04.412935Z",
     "start_time": "2024-04-08T13:09:04.354455Z"
    }
   },
   "id": "29d477ba7730ff92",
   "execution_count": 13
  },
  {
   "cell_type": "code",
   "outputs": [
    {
     "data": {
      "text/plain": "Empty DataFrame\nColumns: [Order ID, Product, Quantity Ordered, Price Each, Order Date, Purchase Address]\nIndex: []",
      "text/html": "<div>\n<style scoped>\n    .dataframe tbody tr th:only-of-type {\n        vertical-align: middle;\n    }\n\n    .dataframe tbody tr th {\n        vertical-align: top;\n    }\n\n    .dataframe thead th {\n        text-align: right;\n    }\n</style>\n<table border=\"1\" class=\"dataframe\">\n  <thead>\n    <tr style=\"text-align: right;\">\n      <th></th>\n      <th>Order ID</th>\n      <th>Product</th>\n      <th>Quantity Ordered</th>\n      <th>Price Each</th>\n      <th>Order Date</th>\n      <th>Purchase Address</th>\n    </tr>\n  </thead>\n  <tbody>\n  </tbody>\n</table>\n</div>"
     },
     "execution_count": 17,
     "metadata": {},
     "output_type": "execute_result"
    }
   ],
   "source": [
    "##Check for duplicate values\n",
    "duplicate_rows = df[df.duplicated(subset=df.columns)]\n",
    "duplicate_rows.head(10)"
   ],
   "metadata": {
    "collapsed": false,
    "ExecuteTime": {
     "end_time": "2024-04-08T13:09:35.998137Z",
     "start_time": "2024-04-08T13:09:35.861020Z"
    }
   },
   "id": "3c39523755d191c6",
   "execution_count": 17
  },
  {
   "cell_type": "code",
   "outputs": [],
   "source": [
    "# Remove duplicate rows\n",
    "df.drop_duplicates(inplace=True)"
   ],
   "metadata": {
    "collapsed": false,
    "ExecuteTime": {
     "end_time": "2024-04-08T13:09:33.299602Z",
     "start_time": "2024-04-08T13:09:33.151585Z"
    }
   },
   "id": "5292067a1e2efbec",
   "execution_count": 16
  },
  {
   "cell_type": "code",
   "outputs": [
    {
     "data": {
      "text/plain": "  Order ID                   Product Quantity Ordered Price Each  \\\n0   141234                    iPhone                1        700   \n1   141235  Lightning Charging Cable                1      14.95   \n2   141236          Wired Headphones                2      11.99   \n3   141237          27in FHD Monitor                1     149.99   \n4   141238          Wired Headphones                1      11.99   \n\n       Order Date                       Purchase Address Month  \n0  01/22/19 21:25        944 Walnut St, Boston, MA 02215    01  \n1  01/28/19 14:15       185 Maple St, Portland, OR 97035    01  \n2  01/17/19 13:33  538 Adams St, San Francisco, CA 94016    01  \n3  01/05/19 20:33     738 10th St, Los Angeles, CA 90001    01  \n4  01/25/19 11:59          387 10th St, Austin, TX 73301    01  ",
      "text/html": "<div>\n<style scoped>\n    .dataframe tbody tr th:only-of-type {\n        vertical-align: middle;\n    }\n\n    .dataframe tbody tr th {\n        vertical-align: top;\n    }\n\n    .dataframe thead th {\n        text-align: right;\n    }\n</style>\n<table border=\"1\" class=\"dataframe\">\n  <thead>\n    <tr style=\"text-align: right;\">\n      <th></th>\n      <th>Order ID</th>\n      <th>Product</th>\n      <th>Quantity Ordered</th>\n      <th>Price Each</th>\n      <th>Order Date</th>\n      <th>Purchase Address</th>\n      <th>Month</th>\n    </tr>\n  </thead>\n  <tbody>\n    <tr>\n      <th>0</th>\n      <td>141234</td>\n      <td>iPhone</td>\n      <td>1</td>\n      <td>700</td>\n      <td>01/22/19 21:25</td>\n      <td>944 Walnut St, Boston, MA 02215</td>\n      <td>01</td>\n    </tr>\n    <tr>\n      <th>1</th>\n      <td>141235</td>\n      <td>Lightning Charging Cable</td>\n      <td>1</td>\n      <td>14.95</td>\n      <td>01/28/19 14:15</td>\n      <td>185 Maple St, Portland, OR 97035</td>\n      <td>01</td>\n    </tr>\n    <tr>\n      <th>2</th>\n      <td>141236</td>\n      <td>Wired Headphones</td>\n      <td>2</td>\n      <td>11.99</td>\n      <td>01/17/19 13:33</td>\n      <td>538 Adams St, San Francisco, CA 94016</td>\n      <td>01</td>\n    </tr>\n    <tr>\n      <th>3</th>\n      <td>141237</td>\n      <td>27in FHD Monitor</td>\n      <td>1</td>\n      <td>149.99</td>\n      <td>01/05/19 20:33</td>\n      <td>738 10th St, Los Angeles, CA 90001</td>\n      <td>01</td>\n    </tr>\n    <tr>\n      <th>4</th>\n      <td>141238</td>\n      <td>Wired Headphones</td>\n      <td>1</td>\n      <td>11.99</td>\n      <td>01/25/19 11:59</td>\n      <td>387 10th St, Austin, TX 73301</td>\n      <td>01</td>\n    </tr>\n  </tbody>\n</table>\n</div>"
     },
     "execution_count": 84,
     "metadata": {},
     "output_type": "execute_result"
    }
   ],
   "source": [
    "#Add month column\n",
    "df['Month'] = df['Order Date'].str[0:2]\n",
    "df.head()"
   ],
   "metadata": {
    "collapsed": false,
    "ExecuteTime": {
     "end_time": "2024-04-07T08:09:34.860840Z",
     "start_time": "2024-04-07T08:09:34.827342Z"
    }
   },
   "id": "bb0d6b6e4dfa8b9c",
   "execution_count": 84
  },
  {
   "cell_type": "code",
   "outputs": [
    {
     "name": "stdout",
     "output_type": "stream",
     "text": [
      "{'06', '04', '07', '02', '01', '03', '05'}\n"
     ]
    }
   ],
   "source": [
    "print(set(df['Month']))"
   ],
   "metadata": {
    "collapsed": false,
    "ExecuteTime": {
     "end_time": "2024-04-07T06:01:33.530407Z",
     "start_time": "2024-04-07T06:01:33.516240Z"
    }
   },
   "id": "5aba7e9ef5cabddb",
   "execution_count": 31
  },
  {
   "cell_type": "code",
   "outputs": [
    {
     "data": {
      "text/plain": "      Order ID                   Product Quantity Ordered Price Each  \\\n0       141234                    iPhone                1        700   \n1       141235  Lightning Charging Cable                1      14.95   \n2       141236          Wired Headphones                2      11.99   \n3       141237          27in FHD Monitor                1     149.99   \n4       141238          Wired Headphones                1      11.99   \n...        ...                       ...              ...        ...   \n11681   259353    AAA Batteries (4-pack)                3       2.99   \n11682   259354                    iPhone                1        700   \n11683   259355                    iPhone                1        700   \n11684   259356    34in Ultrawide Monitor                1     379.99   \n11685   259357      USB-C Charging Cable                1      11.95   \n\n           Order Date                         Purchase Address Month  \n0      01/22/19 21:25          944 Walnut St, Boston, MA 02215    01  \n1      01/28/19 14:15         185 Maple St, Portland, OR 97035    01  \n2      01/17/19 13:33    538 Adams St, San Francisco, CA 94016    01  \n3      01/05/19 20:33       738 10th St, Los Angeles, CA 90001    01  \n4      01/25/19 11:59            387 10th St, Austin, TX 73301    01  \n...               ...                                      ...   ...  \n11681  09/17/19 20:56   840 Highland St, Los Angeles, CA 90001    09  \n11682  09/01/19 16:00  216 Dogwood St, San Francisco, CA 94016    09  \n11683  09/23/19 07:39     220 12th St, San Francisco, CA 94016    09  \n11684  09/19/19 17:30   511 Forest St, San Francisco, CA 94016    09  \n11685  09/30/19 00:18   250 Meadow St, San Francisco, CA 94016    09  \n\n[185686 rows x 7 columns]",
      "text/html": "<div>\n<style scoped>\n    .dataframe tbody tr th:only-of-type {\n        vertical-align: middle;\n    }\n\n    .dataframe tbody tr th {\n        vertical-align: top;\n    }\n\n    .dataframe thead th {\n        text-align: right;\n    }\n</style>\n<table border=\"1\" class=\"dataframe\">\n  <thead>\n    <tr style=\"text-align: right;\">\n      <th></th>\n      <th>Order ID</th>\n      <th>Product</th>\n      <th>Quantity Ordered</th>\n      <th>Price Each</th>\n      <th>Order Date</th>\n      <th>Purchase Address</th>\n      <th>Month</th>\n    </tr>\n  </thead>\n  <tbody>\n    <tr>\n      <th>0</th>\n      <td>141234</td>\n      <td>iPhone</td>\n      <td>1</td>\n      <td>700</td>\n      <td>01/22/19 21:25</td>\n      <td>944 Walnut St, Boston, MA 02215</td>\n      <td>01</td>\n    </tr>\n    <tr>\n      <th>1</th>\n      <td>141235</td>\n      <td>Lightning Charging Cable</td>\n      <td>1</td>\n      <td>14.95</td>\n      <td>01/28/19 14:15</td>\n      <td>185 Maple St, Portland, OR 97035</td>\n      <td>01</td>\n    </tr>\n    <tr>\n      <th>2</th>\n      <td>141236</td>\n      <td>Wired Headphones</td>\n      <td>2</td>\n      <td>11.99</td>\n      <td>01/17/19 13:33</td>\n      <td>538 Adams St, San Francisco, CA 94016</td>\n      <td>01</td>\n    </tr>\n    <tr>\n      <th>3</th>\n      <td>141237</td>\n      <td>27in FHD Monitor</td>\n      <td>1</td>\n      <td>149.99</td>\n      <td>01/05/19 20:33</td>\n      <td>738 10th St, Los Angeles, CA 90001</td>\n      <td>01</td>\n    </tr>\n    <tr>\n      <th>4</th>\n      <td>141238</td>\n      <td>Wired Headphones</td>\n      <td>1</td>\n      <td>11.99</td>\n      <td>01/25/19 11:59</td>\n      <td>387 10th St, Austin, TX 73301</td>\n      <td>01</td>\n    </tr>\n    <tr>\n      <th>...</th>\n      <td>...</td>\n      <td>...</td>\n      <td>...</td>\n      <td>...</td>\n      <td>...</td>\n      <td>...</td>\n      <td>...</td>\n    </tr>\n    <tr>\n      <th>11681</th>\n      <td>259353</td>\n      <td>AAA Batteries (4-pack)</td>\n      <td>3</td>\n      <td>2.99</td>\n      <td>09/17/19 20:56</td>\n      <td>840 Highland St, Los Angeles, CA 90001</td>\n      <td>09</td>\n    </tr>\n    <tr>\n      <th>11682</th>\n      <td>259354</td>\n      <td>iPhone</td>\n      <td>1</td>\n      <td>700</td>\n      <td>09/01/19 16:00</td>\n      <td>216 Dogwood St, San Francisco, CA 94016</td>\n      <td>09</td>\n    </tr>\n    <tr>\n      <th>11683</th>\n      <td>259355</td>\n      <td>iPhone</td>\n      <td>1</td>\n      <td>700</td>\n      <td>09/23/19 07:39</td>\n      <td>220 12th St, San Francisco, CA 94016</td>\n      <td>09</td>\n    </tr>\n    <tr>\n      <th>11684</th>\n      <td>259356</td>\n      <td>34in Ultrawide Monitor</td>\n      <td>1</td>\n      <td>379.99</td>\n      <td>09/19/19 17:30</td>\n      <td>511 Forest St, San Francisco, CA 94016</td>\n      <td>09</td>\n    </tr>\n    <tr>\n      <th>11685</th>\n      <td>259357</td>\n      <td>USB-C Charging Cable</td>\n      <td>1</td>\n      <td>11.95</td>\n      <td>09/30/19 00:18</td>\n      <td>250 Meadow St, San Francisco, CA 94016</td>\n      <td>09</td>\n    </tr>\n  </tbody>\n</table>\n<p>185686 rows × 7 columns</p>\n</div>"
     },
     "execution_count": 86,
     "metadata": {},
     "output_type": "execute_result"
    }
   ],
   "source": [
    "df = df[df['Month'] != ('Or')]\n",
    "df = df[df['Month'] != ('nan')]\n",
    "df"
   ],
   "metadata": {
    "collapsed": false,
    "ExecuteTime": {
     "end_time": "2024-04-07T08:09:51.799834Z",
     "start_time": "2024-04-07T08:09:51.704786Z"
    }
   },
   "id": "3890820c719709d5",
   "execution_count": 86
  },
  {
   "cell_type": "markdown",
   "source": [
    "1. Apply data science solutions to support decision_making.\n",
    "- What was the best month for sales? How much was earned that month?"
   ],
   "metadata": {
    "collapsed": false
   },
   "id": "a575d8f7565f40eb"
  },
  {
   "cell_type": "code",
   "outputs": [
    {
     "data": {
      "text/plain": "<Figure size 640x480 with 1 Axes>",
      "image/png": "[encoded data removed]"
     },
     "metadata": {},
     "output_type": "display_data"
    }
   ],
   "source": [
    "df['Quantity Ordered'] = pd.to_numeric(df['Quantity Ordered'], downcast='integer')\n",
    "df['Price Each'] = pd.to_numeric(df['Price Each'], downcast='float')\n",
    "df['Sales'] = df['Quantity Ordered'] * df['Price Each']\n",
    "moving_column = df.pop('Sales')\n",
    "df.insert(4, 'Sales', moving_column)\n",
    "df.groupby('Month').sum()['Sales']\n",
    "sales_value = df.groupby('Month').sum()['Sales']\n",
    "months = range(1,13)\n",
    "plt.bar(x=months, height=sales_value)\n",
    "plt.xticks(months)\n",
    "plt.xlabel('Months')\n",
    "plt.ylabel('Sales in USD')\n",
    "plt.show()"
   ],
   "metadata": {
    "collapsed": false,
    "ExecuteTime": {
     "end_time": "2024-04-07T13:37:34.261529Z",
     "start_time": "2024-04-07T13:37:26.375425Z"
    }
   },
   "id": "8099781466e5a6c3",
   "execution_count": 90
  },
  {
   "cell_type": "markdown",
   "source": [
    "- What city the best sales?"
   ],
   "metadata": {
    "collapsed": false
   },
   "id": "7635b2af184d3d81"
  },
  {
   "cell_type": "code",
   "outputs": [
    {
     "data": {
      "text/plain": "<Figure size 640x480 with 1 Axes>",
      "image/png": "[encoded data removed]"
     },
     "metadata": {},
     "output_type": "display_data"
    }
   ],
   "source": [
    "address_to_city = lambda address:address.split(',')[1]\n",
    "df['City'] = df['Purchase Address'].apply(address_to_city)\n",
    "df.groupby('City').sum()['Sales']\n",
    "sales_value_city = df.groupby('City').sum()['Sales']\n",
    "cities = [city for city, sales in sales_value_city.items()]\n",
    "plt.bar(x=cities, height=sales_value_city)\n",
    "plt.xticks(cities, rotation=90, size=8)\n",
    "plt.xlabel('Cities')\n",
    "plt.ylabel('Sales in USD')\n",
    "plt.show()"
   ],
   "metadata": {
    "collapsed": false,
    "ExecuteTime": {
     "end_time": "2024-04-07T13:57:49.176283Z",
     "start_time": "2024-04-07T13:57:25.725009Z"
    }
   },
   "id": "38b53ce291a21780",
   "execution_count": 92
  },
  {
   "cell_type": "markdown",
   "source": [
    "###Apply Linear Regression for predicting future sales"
   ],
   "metadata": {
    "collapsed": false
   },
   "id": "8208463bfe9603f8"
  },
  {
   "cell_type": "code",
   "outputs": [
    {
     "name": "stdout",
     "output_type": "stream",
     "text": [
      "Mean Squared Error: 111346.59014641217\n"
     ]
    },
    {
     "data": {
      "text/plain": "<Figure size 640x480 with 1 Axes>",
      "image/png": "[encoded data removed]"
     },
     "metadata": {},
     "output_type": "display_data"
    },
    {
     "name": "stdout",
     "output_type": "stream",
     "text": [
      "Predicted future sales: [390.1626295  390.03284063 389.90305177]\n"
     ]
    }
   ],
   "source": [
    "# Preprocess the data\n",
    "df['Order Date'] = pd.to_datetime(df['Order Date'])\n",
    "df['Month'] = df['Order Date'].dt.month\n",
    "df['Year'] = df['Order Date'].dt.year\n",
    "df['Sales'] = df['Quantity Ordered'] * df['Price Each']\n",
    "\n",
    "# Select features and target variable\n",
    "X = df[['Month', 'Year']]  # Features: Month and Year\n",
    "y = df['Sales']             # Target variable: Sales\n",
    "\n",
    "# Split the data into training and testing sets\n",
    "X_train, X_test, y_train, y_test = train_test_split(X, y, test_size=0.2, random_state=42)\n",
    "\n",
    "# Train the Linear Regression model\n",
    "model = LinearRegression()\n",
    "model.fit(X_train, y_train)\n",
    "\n",
    "# Evaluate the model\n",
    "y_pred = model.predict(X_test)\n",
    "mse = mean_squared_error(y_test, y_pred)\n",
    "print('Mean Squared Error:', mse)\n",
    "\n",
    "# Visualize the actual vs predicted sales\n",
    "plt.scatter(X_test['Month'], y_test, color='blue', label='Actual')\n",
    "plt.plot(X_test['Month'], y_pred, color='red', label='Predicted')\n",
    "plt.xlabel('Month')\n",
    "plt.ylabel('Sales')\n",
    "plt.title('Actual vs Predicted Sales')\n",
    "plt.legend()\n",
    "plt.show()\n",
    "\n",
    "# Predict future sales\n",
    "future_months = pd.DataFrame({'Month': [13, 14, 15], 'Year': [2024, 2024, 2024]})\n",
    "future_sales = model.predict(future_months)\n",
    "print('Predicted future sales:', future_sales"
   ],
   "metadata": {
    "collapsed": false,
    "ExecuteTime": {
     "end_time": "2024-04-07T14:48:18.191865Z",
     "start_time": "2024-04-07T14:48:17.750536Z"
    }
   },
   "id": "493db854ab1700f8",
   "execution_count": 106
  }
 ],
 "metadata": {
  "kernelspec": {
   "display_name": "Python 3",
   "language": "python",
   "name": "python3"
  },
  "language_info": {
   "codemirror_mode": {
    "name": "ipython",
    "version": 2
   },
   "file_extension": ".py",
   "mimetype": "text/x-python",
   "name": "python",
   "nbconvert_exporter": "python",
   "pygments_lexer": "ipython2",
   "version": "2.7.6"
  }
 },
 "nbformat": 4,
 "nbformat_minor": 5
}
